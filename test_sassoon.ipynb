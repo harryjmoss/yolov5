{
 "cells": [
  {
   "cell_type": "markdown",
   "metadata": {},
   "source": [
    "Following steps from https://github.com/ultralytics/yolov3/issues/1570"
   ]
  },
  {
   "cell_type": "markdown",
   "metadata": {},
   "source": [
    "This run (exp20) got the best results according to wandb"
   ]
  },
  {
   "cell_type": "code",
   "execution_count": 7,
   "metadata": {},
   "outputs": [
    {
     "name": "stdout",
     "output_type": "stream",
     "text": [
      "Namespace(augment=False, batch_size=32, conf_thres=0.001, data='./data/sassoon.yaml', device='', exist_ok=False, img_size=1175, iou_thres=0.65, name='exp', project='runs/test', save_conf=False, save_json=False, save_txt=False, single_cls=False, task='val', verbose=False, weights=['weights/sassoon_wandb_best_120epoch_trained_on_masati100epoch_yolov5x.pt'])\n",
      "Using torch 1.7.1 CUDA:0 (Tesla V100-SXM2-32GB, 32510MB)\n",
      "                  CUDA:1 (Tesla V100-SXM2-32GB, 32510MB)\n",
      "                  CUDA:2 (Tesla V100-SXM2-32GB, 32510MB)\n",
      "                  CUDA:3 (Tesla V100-SXM2-32GB, 32510MB)\n",
      "                  CUDA:4 (Tesla V100-SXM2-32GB, 32510MB)\n",
      "                  CUDA:5 (Tesla V100-SXM2-32GB, 32510MB)\n",
      "                  CUDA:6 (Tesla V100-SXM2-32GB, 32510MB)\n",
      "                  CUDA:7 (Tesla V100-SXM2-32GB, 32510MB)\n",
      "\n",
      "Fusing layers... \n",
      "Model Summary: 484 layers, 88390614 parameters, 0 gradients\n",
      "WARNING: --img-size 1175 must be multiple of max stride 32, updating to 1184\n",
      "Scanning '../sassoon/labels/val.cache' for images and labels... 17 found, 0 miss\n",
      "Scanning '../sassoon/labels/val.cache' for images and labels... 17 found, 0 miss\u001b[A\n",
      "\n",
      "               Class      Images     Targets           P           R      mAP@.5\u001b[A\n",
      "                 all          17    1.11e+03       0.463       0.956       0.918       0.559\n",
      "Speed: 17.8/1.4/19.1 ms inference/NMS/total per 1184x1184 image at batch-size 32\n",
      "Results saved to runs/test/exp7\n",
      "Internal process exited\n"
     ]
    }
   ],
   "source": [
    "!python3.8 test.py --weights weights/sassoon_wandb_best_120epoch_trained_on_masati100epoch_yolov5x.pt --data sassoon.yaml --img 1175 --iou 0.65"
   ]
  },
  {
   "cell_type": "code",
   "execution_count": 1,
   "metadata": {},
   "outputs": [
    {
     "name": "stdout",
     "output_type": "stream",
     "text": [
      "Namespace(augment=False, batch_size=32, conf_thres=0.001, data='./data/sassoon.yaml', device='', exist_ok=False, img_size=1175, iou_thres=0.65, name='exp', project='runs/test', save_conf=False, save_json=False, save_txt=False, single_cls=False, task='val', verbose=False, weights=['weights/sassoon100epoch_best_trained_on_masati_yolov5x_100epoch.pt'])\n",
      "Using torch 1.7.1 CUDA:0 (Tesla V100-SXM2-32GB, 32510MB)\n",
      "                  CUDA:1 (Tesla V100-SXM2-32GB, 32510MB)\n",
      "                  CUDA:2 (Tesla V100-SXM2-32GB, 32510MB)\n",
      "                  CUDA:3 (Tesla V100-SXM2-32GB, 32510MB)\n",
      "                  CUDA:4 (Tesla V100-SXM2-32GB, 32510MB)\n",
      "                  CUDA:5 (Tesla V100-SXM2-32GB, 32510MB)\n",
      "                  CUDA:6 (Tesla V100-SXM2-32GB, 32510MB)\n",
      "                  CUDA:7 (Tesla V100-SXM2-32GB, 32510MB)\n",
      "\n",
      "Fusing layers... \n",
      "Model Summary: 484 layers, 88390614 parameters, 0 gradients\n",
      "WARNING: --img-size 1175 must be multiple of max stride 32, updating to 1184\n",
      "Scanning '../sassoon/labels/val.cache' for images and labels... 17 found, 0 miss\n",
      "Scanning '../sassoon/labels/val.cache' for images and labels... 17 found, 0 miss\u001b[A\n",
      "\n",
      "               Class      Images     Targets           P           R      mAP@.5\u001b[A\n",
      "                 all          17    1.11e+03       0.474       0.948       0.917        0.56\n",
      "Speed: 17.6/1.3/18.8 ms inference/NMS/total per 1184x1184 image at batch-size 32\n",
      "Results saved to runs/test/exp\n",
      "Internal process exited\n"
     ]
    }
   ],
   "source": [
    "!python3.8 test.py --weights weights/sassoon100epoch_best_trained_on_masati_yolov5x_100epoch.pt --data sassoon.yaml --img 1175 --iou 0.65"
   ]
  },
  {
   "cell_type": "code",
   "execution_count": null,
   "metadata": {},
   "outputs": [],
   "source": []
  }
 ],
 "metadata": {
  "kernelspec": {
   "display_name": "Python 3",
   "language": "python",
   "name": "python3"
  },
  "language_info": {
   "codemirror_mode": {
    "name": "ipython",
    "version": 3
   },
   "file_extension": ".py",
   "mimetype": "text/x-python",
   "name": "python",
   "nbconvert_exporter": "python",
   "pygments_lexer": "ipython3",
   "version": "3.6.9"
  }
 },
 "nbformat": 4,
 "nbformat_minor": 4
}
